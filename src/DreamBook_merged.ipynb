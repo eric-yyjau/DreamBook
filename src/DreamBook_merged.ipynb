{
 "cells": [
  {
   "cell_type": "code",
   "execution_count": 11,
   "metadata": {},
   "outputs": [],
   "source": [
    "import subprocess\n",
    "import cv2\n",
    "from subprocess import check_output\n",
    "import numpy as np\n",
    "from scipy import spatial"
   ]
  },
  {
   "cell_type": "code",
   "execution_count": 4,
   "metadata": {},
   "outputs": [],
   "source": [
    "def get_num_pages(pdf_path):\n",
    "    output = check_output([\"pdfinfo\", pdf_path]).decode()\n",
    "    pages_line = [line for line in output.splitlines() if \"Pages:\" in line][0]\n",
    "    num_pages = int(pages_line.split(\":\")[1])\n",
    "    return num_pages"
   ]
  },
  {
   "cell_type": "code",
   "execution_count": 10,
   "metadata": {},
   "outputs": [],
   "source": [
    "def ConvertPdfToImages (pdfFile, imageFile) :\n",
    "    \n",
    "    # Path to Poppler's libraries (Download from https://blog.alivate.com.au/poppler-windows/)\n",
    "    pdfToPPMPath = r\"C:\\Program Files (x86)\\Poppler\\poppler-0.68.0\\bin\\pdftoppm.exe\"\n",
    "\n",
    "    # Convert PDF to images\n",
    "    subprocess.Popen('\"%s\" -png %s %s' % (pdfToPPMPath, pdfFile, imageFile))\n",
    "    \n",
    "    # Return number of pages in PDF\n",
    "    return get_num_pages(pdfFile)"
   ]
  },
  {
   "cell_type": "code",
   "execution_count": 15,
   "metadata": {},
   "outputs": [],
   "source": [
    "def ReadPage (pageNumber) :\n",
    "    image = imageFile + '-' + str(pageNumber) + '.png'\n",
    "    # Open CV code for transformation\n",
    "    "
   ]
  },
  {
   "cell_type": "code",
   "execution_count": 16,
   "metadata": {
    "collapsed": true
   },
   "outputs": [
    {
     "ename": "SyntaxError",
     "evalue": "unexpected EOF while parsing (<ipython-input-16-27c4cdb5b8a8>, line 2)",
     "output_type": "error",
     "traceback": [
      "\u001b[1;36m  File \u001b[1;32m\"<ipython-input-16-27c4cdb5b8a8>\"\u001b[1;36m, line \u001b[1;32m2\u001b[0m\n\u001b[1;33m    # Return 1 for next page, -1 for prev page based on threshold\u001b[0m\n\u001b[1;37m                                                                 ^\u001b[0m\n\u001b[1;31mSyntaxError\u001b[0m\u001b[1;31m:\u001b[0m unexpected EOF while parsing\n"
     ]
    }
   ],
   "source": [
    "def ReadSensorOutput () :\n",
    "    # Return 1 for next page, -1 for prev page based on threshold"
   ]
  },
  {
   "cell_type": "code",
   "execution_count": 18,
   "metadata": {
    "collapsed": true
   },
   "outputs": [
    {
     "ename": "SyntaxError",
     "evalue": "invalid syntax (<ipython-input-18-b10cee0dc2a3>, line 6)",
     "output_type": "error",
     "traceback": [
      "\u001b[1;36m  File \u001b[1;32m\"<ipython-input-18-b10cee0dc2a3>\"\u001b[1;36m, line \u001b[1;32m6\u001b[0m\n\u001b[1;33m    while (!stopReading) : # Replace with a listener to signal end of reading\u001b[0m\n\u001b[1;37m           ^\u001b[0m\n\u001b[1;31mSyntaxError\u001b[0m\u001b[1;31m:\u001b[0m invalid syntax\n"
     ]
    }
   ],
   "source": [
    "def ReadBook (pdfFile) :\n",
    "    imageFile = pdfFile[:-4] # Prefix of image is PDF file name\n",
    "    totalPages = ConvertPdfToImages(pdfFile, imageFile)\n",
    "    pageNumber = 1\n",
    "    ReadPage(pageNumber)\n",
    "    while (!stopReading) : # Replace with a listener to signal end of reading\n",
    "        pageChange = ReadSensorOutput()\n",
    "        if pageChange==1 and pageNumber<totalPages : \n",
    "            ReadPage(pageNumber+1)\n",
    "        elif pageChange==-1 and pageNumber>0 :\n",
    "            ReadPage(pageNumber-1)"
   ]
  },
  {
   "cell_type": "code",
   "execution_count": null,
   "metadata": {},
   "outputs": [],
   "source": [
    "pdfFile = \"258report.pdf\"\n",
    "ReadBook(pdfFile)"
   ]
  }
 ],
 "metadata": {
  "kernelspec": {
   "display_name": "Python 3",
   "language": "python",
   "name": "python3"
  },
  "language_info": {
   "codemirror_mode": {
    "name": "ipython",
    "version": 3
   },
   "file_extension": ".py",
   "mimetype": "text/x-python",
   "name": "python",
   "nbconvert_exporter": "python",
   "pygments_lexer": "ipython3",
   "version": "3.7.0"
  }
 },
 "nbformat": 4,
 "nbformat_minor": 2
}

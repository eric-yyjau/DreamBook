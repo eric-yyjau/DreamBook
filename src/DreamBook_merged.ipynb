{
 "cells": [
  {
   "cell_type": "code",
   "execution_count": 1,
   "metadata": {},
   "outputs": [],
   "source": [
    "import subprocess\n",
    "import cv2\n",
    "from subprocess import check_output\n",
    "import numpy as np\n",
    "from scipy import spatial\n",
    "import time\n",
    "\n",
    "from transform.calibration import *\n",
    "from pdf.pdf2img import PdfFile"
   ]
  },
  {
   "cell_type": "code",
   "execution_count": 2,
   "metadata": {},
   "outputs": [],
   "source": [
    "## parameters\n",
    "proj_h = 720\n",
    "proj_w = 1280\n",
    "\n",
    "## init settings\n",
    "circles = []\n",
    "refPt = []\n",
    "warp = False\n",
    "stopReading = False"
   ]
  },
  {
   "cell_type": "markdown",
   "metadata": {},
   "source": [
    "Code structure-\n",
    "\n",
    "Read Book:\n",
    "    Convert PDF to Images\n",
    "    Show page 1 (with transformation)\n",
    "    while (!stopReading) :\n",
    "        pageChange = Read Output Sensor\n",
    "        if pageChange == nextPage :\n",
    "            Read Page(+1)\n",
    "        else if pageChange == prevPage :\n",
    "            Read Page(-1)"
   ]
  },
  {
   "cell_type": "code",
   "execution_count": 3,
   "metadata": {},
   "outputs": [],
   "source": [
    "def get_num_pages(pdf_path):\n",
    "    output = check_output([\"pdfinfo\", pdf_path]).decode()\n",
    "    pages_line = [line for line in output.splitlines() if \"Pages:\" in line][0]\n",
    "    num_pages = int(pages_line.split(\":\")[1])\n",
    "    return num_pages"
   ]
  },
  {
   "cell_type": "code",
   "execution_count": 4,
   "metadata": {},
   "outputs": [],
   "source": [
    "def ConvertPdfToImages (pdfFile, imageFile) :\n",
    "    \n",
    "    # Path to Poppler's libraries (Download from https://blog.alivate.com.au/poppler-windows/)\n",
    "    pdfToPPMPath = r\"C:\\Program Files (x86)\\Poppler\\poppler-0.68.0\\bin\\pdftoppm.exe\"\n",
    "\n",
    "    # Convert PDF to images\n",
    "    subprocess.Popen('\"%s\" -png %s %s' % (pdfToPPMPath, pdfFile, imageFile))\n",
    "    \n",
    "    # Return number of pages in PDF\n",
    "    return get_num_pages(pdfFile)"
   ]
  },
  {
   "cell_type": "code",
   "execution_count": 5,
   "metadata": {},
   "outputs": [],
   "source": [
    "def imgResize(img):\n",
    "#     img = cv2.imread(imageFile)\n",
    "    height, width = img.shape[:2]\n",
    "    # resize img\n",
    "    ratio = max(width/proj_w, height/proj_h);\n",
    "    img = cv2.resize(img, (int(width/ratio), int(height/ratio)))\n",
    "    return img\n",
    "\n",
    "def pageShow (img, mat) :\n",
    "#     filename = imageFile + '-' + str(pageNumber) + '.jpg'\n",
    "#     img = ReadImg(filename)\n",
    "    # Open CV code for transformation\n",
    "    img = cv2.warpPerspective(img, mat, (proj_w, proj_h))\n",
    "    cv2.imshow(fr_trans, img)\n",
    "    key = cv2.waitKey(1)\n",
    "    \n",
    "def initFrame(frameName):\n",
    "    cv2.namedWindow(frameName)\n"
   ]
  },
  {
   "cell_type": "code",
   "execution_count": 6,
   "metadata": {},
   "outputs": [],
   "source": [
    "def ReadSensorOutput () :\n",
    "#     import time\n",
    "#     time.sleep(3)\n",
    "    return 0\n",
    "    # Return 1 for next page, -1 for prev page based on threshold\n",
    "    \n",
    "def ReadKeyboardInput ():\n",
    "    key = []\n",
    "    while True:\n",
    "        key = cv2.waitKey(0)\n",
    "    print(\"key, \", key)\n",
    "    if key == 97: #'a'\n",
    "        pageNum = pageNum-1\n",
    "        img_next = file.readPage(pageNum)\n",
    "        print (\"detect a\")\n",
    "    elif key == 100: #'d'\n",
    "        pageNum = pageNum+1\n",
    "        img_next = file.readPage(pageNum)\n",
    "        print (\"detect d\")\n",
    "    "
   ]
  },
  {
   "cell_type": "code",
   "execution_count": 7,
   "metadata": {},
   "outputs": [],
   "source": [
    "def ReadBook (pdfFile) :\n",
    "    global stopReading, fr_trans\n",
    "    file = PdfFile()\n",
    "    totalPages = file.readFile(pdfFile)\n",
    "#     imageFile = pdfFile[:-4] # Prefix of image is PDF file name\n",
    "#     totalPages = ConvertPdfToImages(pdfFile, imageFile)\n",
    "    print(\"total: \", totalPages)\n",
    "    if totalPages < 1:\n",
    "        return -1\n",
    "    pageNumber = 0\n",
    "    img = file.readPage(pageNumber)\n",
    "    img = imgResize(img)\n",
    "    # calibration\n",
    "#     mat = calibration(img)\n",
    "    mat = np.identity(3)\n",
    "    # show\n",
    "    \n",
    "    filename = \"img2.jpg\"\n",
    "    img = cv2.imread(filename)\n",
    "    img = imgResize(img)\n",
    "    print(\"img shape: \", img.shape)\n",
    "#     cv2.imshow('img', img)\n",
    "    pageShow(img, mat)\n",
    "    while (stopReading == False) : # Replace with a listener to signal end of reading\n",
    "        time.sleep(0.1)\n",
    "        print(\"test!\")\n",
    "        pageChange = ReadSensorOutput()\n",
    "#         pageChange = ReadKeyboardInput()\n",
    "        if pageChange==1 and pageNumber<totalPages : \n",
    "            pageNumber = pageNumber + 1\n",
    "            print(pageNumber)\n",
    "            img = imgResize(file.readPage(pageNumber))\n",
    "        elif pageChange==-1 and pageNumber>0 :\n",
    "            pageNumber = pageNumber - 1\n",
    "            img = imgResize(file.readPage(pageNumber))\n",
    "#         pageShow(img, mat)\n",
    "        cv2.imshow('img', img)"
   ]
  },
  {
   "cell_type": "code",
   "execution_count": 8,
   "metadata": {},
   "outputs": [],
   "source": [
    "def ReadBookTest () :\n",
    "    mat = np.identity(3)\n",
    "    # show\n",
    "#     initFrame(fr_trans)\n",
    "    import cv2\n",
    "    filename = \"img2.jpg\"\n",
    "    img = cv2.imread(filename)\n",
    "    img = imgResize(img)\n",
    "    while True:\n",
    "#         pageShow(img, mat)\n",
    "        cv2.imshow(\"img\", img)\n",
    "        key = cv2.waitKey(1)\n",
    "        \n",
    "#         time.sleep(0.1)"
   ]
  },
  {
   "cell_type": "code",
   "execution_count": null,
   "metadata": {},
   "outputs": [],
   "source": [
    "if __name__ == \"__main__\":\n",
    "    pdfFile = \"pdf/test1.pdf\"\n",
    "    # read calibration image\n",
    "\n",
    "    fr_trans = \"Perspective transformation\"\n",
    "#     initFrame(fr_trans)\n",
    "    ReadBook (pdfFile)\n",
    "#     ReadBookTest ()\n",
    "    \n",
    "    \n",
    "    filename = \"img2.jpg\"\n",
    "    img = cv2.imread(filename)\n",
    "    img = imgResize(img)\n",
    "\n",
    "    # calibration\n",
    "#     mat = calibration(img)\n",
    "    mat = np.identity(3)\n",
    "    # start to print\n",
    "\n",
    "\n",
    "    while True:\n",
    "#         ReadPage(\"test\",0, mat)\n",
    "        pageShow(img, mat)\n",
    "        print(\"test!\")\n",
    "        key = cv2.waitKey(1)\n",
    "        time.sleep(0.1)\n",
    "        if key == 27:\n",
    "            print(\"stop\")\n",
    "            break\n",
    "#         cv2.destroyWindow(fr_trans)\n",
    " \n",
    "    cv2.destroyAllWindows()\n",
    "    \n",
    "    \n",
    "# ReadBook(pdfFile)\n"
   ]
  },
  {
   "cell_type": "code",
   "execution_count": null,
   "metadata": {},
   "outputs": [],
   "source": []
  },
  {
   "cell_type": "code",
   "execution_count": null,
   "metadata": {},
   "outputs": [],
   "source": []
  },
  {
   "cell_type": "code",
   "execution_count": null,
   "metadata": {},
   "outputs": [],
   "source": []
  }
 ],
 "metadata": {
  "kernelspec": {
   "display_name": "Python 3",
   "language": "python",
   "name": "python3"
  },
  "language_info": {
   "codemirror_mode": {
    "name": "ipython",
    "version": 3
   },
   "file_extension": ".py",
   "mimetype": "text/x-python",
   "name": "python",
   "nbconvert_exporter": "python",
   "pygments_lexer": "ipython3",
   "version": "3.5.1"
  }
 },
 "nbformat": 4,
 "nbformat_minor": 2
}

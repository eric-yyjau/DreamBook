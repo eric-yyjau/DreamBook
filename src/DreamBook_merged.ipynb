{
 "cells": [
  {
   "cell_type": "code",
   "execution_count": null,
   "metadata": {},
   "outputs": [],
   "source": [
    "import subprocess\n",
    "import cv2\n",
    "from subprocess import check_output\n",
    "import numpy as np\n",
    "from scipy import spatial"
   ]
  },
  {
   "cell_type": "markdown",
   "metadata": {},
   "source": [
    "Code structure-\n",
    "\n",
    "Read Book:\n",
    "    Convert PDF to Images\n",
    "    Show page 1 (with transformation)\n",
    "    while (!stopReading) :\n",
    "        pageChange = Read Output Sensor\n",
    "        if pageChange == nextPage :\n",
    "            Read Page(+1)\n",
    "        else if pageChange == prevPage :\n",
    "            Read Page(-1)"
   ]
  },
  {
   "cell_type": "code",
   "execution_count": null,
   "metadata": {},
   "outputs": [],
   "source": [
    "def get_num_pages(pdf_path):\n",
    "    output = check_output([\"pdfinfo\", pdf_path]).decode()\n",
    "    pages_line = [line for line in output.splitlines() if \"Pages:\" in line][0]\n",
    "    num_pages = int(pages_line.split(\":\")[1])\n",
    "    return num_pages"
   ]
  },
  {
   "cell_type": "code",
   "execution_count": null,
   "metadata": {},
   "outputs": [],
   "source": [
    "def ConvertPdfToImages (pdfFile, imageFile) :\n",
    "    \n",
    "    # Path to Poppler's libraries (Download from https://blog.alivate.com.au/poppler-windows/)\n",
    "    pdfToPPMPath = r\"C:\\Program Files (x86)\\Poppler\\poppler-0.68.0\\bin\\pdftoppm.exe\"\n",
    "\n",
    "    # Convert PDF to images\n",
    "    subprocess.Popen('\"%s\" -png %s %s' % (pdfToPPMPath, pdfFile, imageFile))\n",
    "    \n",
    "    # Return number of pages in PDF\n",
    "    return get_num_pages(pdfFile)"
   ]
  },
  {
   "cell_type": "code",
   "execution_count": null,
   "metadata": {},
   "outputs": [],
   "source": [
    "def ReadPage (imageFile,pageNumber) :\n",
    "    image = imageFile + '-' + str(pageNumber) + '.png'\n",
    "    # Open CV code for transformation\n",
    "    "
   ]
  },
  {
   "cell_type": "code",
   "execution_count": null,
   "metadata": {},
   "outputs": [],
   "source": [
    "def ReadSensorOutput () :\n",
    "    # Return 1 for next page, -1 for prev page based on threshold"
   ]
  },
  {
   "cell_type": "code",
   "execution_count": null,
   "metadata": {},
   "outputs": [],
   "source": [
    "def ReadBook (pdfFile) :\n",
    "    imageFile = pdfFile[:-4] # Prefix of image is PDF file name\n",
    "    totalPages = ConvertPdfToImages(pdfFile, imageFile)\n",
    "    pageNumber = 1\n",
    "    ReadPage(imageFile,pageNumber)\n",
    "    while (!stopReading) : # Replace with a listener to signal end of reading\n",
    "        pageChange = ReadSensorOutput()\n",
    "        if pageChange==1 and pageNumber<totalPages : \n",
    "            ReadPage(imageFile,pageNumber+1)\n",
    "        elif pageChange==-1 and pageNumber>0 :\n",
    "            ReadPage(imageFile,pageNumber-1)"
   ]
  },
  {
   "cell_type": "code",
   "execution_count": null,
   "metadata": {},
   "outputs": [],
   "source": [
    "pdfFile = \"258report.pdf\"\n",
    "ReadBook(pdfFile)"
   ]
  }
 ],
 "metadata": {
  "kernelspec": {
   "display_name": "Python 3",
   "language": "python",
   "name": "python3"
  },
  "language_info": {
   "codemirror_mode": {
    "name": "ipython",
    "version": 3
   },
   "file_extension": ".py",
   "mimetype": "text/x-python",
   "name": "python",
   "nbconvert_exporter": "python",
   "pygments_lexer": "ipython3",
   "version": "3.7.0"
  }
 },
 "nbformat": 4,
 "nbformat_minor": 2
}
